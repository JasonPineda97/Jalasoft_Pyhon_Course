{
 "cells": [
  {
   "cell_type": "markdown",
   "metadata": {},
   "source": [
    "**Week 2 - Assigment 1**"
   ]
  },
  {
   "cell_type": "code",
   "execution_count": 9,
   "metadata": {},
   "outputs": [],
   "source": [
    "## join array elements\n",
    "import numpy as np\n",
    "\n",
    "grades1 = [10, 20, 40, 67.7]\n",
    "grades2 = [100, 25.0, 40.5, 6.7]\n",
    "expected_result = [10, 20, 40, 67.7, 100, 25.0, 40.5, 6.7]\n",
    "result = []\n",
    "\n",
    "result = grades1 + grades2\n",
    "\n",
    "assert result == expected_result, f\"actual result {result} does not match expected result {expected_result}\""
   ]
  },
  {
   "cell_type": "code",
   "execution_count": 12,
   "metadata": {},
   "outputs": [],
   "source": [
    "## sum array elements\n",
    "\n",
    "grades1 = [10, 20, 40, 67.7]\n",
    "grades2 = [100, 25.0, 40.5, 6.7]\n",
    "expected_result = [110, 45.0, 80.5, 74.4]\n",
    "\n",
    "\n",
    "result = []\n",
    "for element in zip(grades1, grades2):\n",
    "    result.append(element[0] + element[1])\n",
    "\n",
    "assert result == expected_result, f\"actual result {result} does not match expected result {expected_result}\""
   ]
  },
  {
   "cell_type": "code",
   "execution_count": 33,
   "metadata": {},
   "outputs": [],
   "source": [
    "# With arithmetic manipulation, we can convert current data to the way we want it to be. \n",
    "# Here's a real-world problem I face - I moved down to the United States about 6 years ago from Canada. \n",
    "# In Canada we use celciu for temperatures, and most of the time it has to be converted to the US system which uses farenheit. \n",
    "# Convert a number of farenheit values, say the weather forecase, to celcius\n",
    "# And the formula for conversion is ((°F − 32) × 5/9 = °C)\n",
    "farenheit = [0,-10,-5,-15,0]\n",
    "celcius = []\n",
    "for grades in farenheit:\n",
    "    celcius.append((grades-32) * 5/9)\n",
    "expected_celcius = [-17.77777777777778, -23.333333333333332, -20.555555555555557, -26.11111111111111, -17.77777777777778]\n",
    "assert celcius == expected_celcius, f\"actual result {celcius} does not match expected result {expected_celcius}\"\n",
    "\n",
    "# Now, create an array with random values of typical `Ann Arbor winter` farenheit values with sample_size specified by the user\n",
    "# then convert its values to celcius\n",
    "# result list must not contain duplicates, and celcius numbers must be floating point with 3 decimal places\n",
    "celcius = []\n",
    "expected_celcius = []\n"
   ]
  },
  {
   "cell_type": "code",
   "execution_count": 35,
   "metadata": {},
   "outputs": [],
   "source": [
    "## Now, we want to get a boolean array to check celcius degrees that are greater than -20 degrees\n",
    "\n",
    "farenheit = [0,-10,-5,-15,0]\n",
    "celcius_gt_20 = []\n",
    "for grades in farenheit:\n",
    "    if (grades-32) * 5/9>=-20:\n",
    "        celcius_gt_20.append(False)\n",
    "    else:\n",
    "        celcius_gt_20.append(True)\n",
    "expected_celcius_gt_20 = [False, True, True, True, False]\n",
    "assert celcius_gt_20 == expected_celcius_gt_20, f\"actual result {celcius_gt_20} does not match expected result {expected_celcius_gt_20}\"\n"
   ]
  },
  {
   "cell_type": "code",
   "execution_count": 36,
   "metadata": {},
   "outputs": [],
   "source": [
    "## Now, we want to get a boolean array to check celcius degrees that are greater than -20 degrees\n",
    "\n",
    "farenheit = [0,-10,-5,-15,0]\n",
    "celcius_gt_20 = []\n",
    "for grades in farenheit:\n",
    "    if (grades-32) * 5/9>=-20:\n",
    "        celcius_gt_20.append(False)\n",
    "    else:\n",
    "        celcius_gt_20.append(True)\n",
    "expected_celcius_gt_20 = [False, True, True, True, False]\n",
    "assert celcius_gt_20 == expected_celcius_gt_20, f\"actual result {celcius_gt_20} does not match expected result {expected_celcius_gt_20}\"\n"
   ]
  },
  {
   "cell_type": "code",
   "execution_count": 29,
   "metadata": {},
   "outputs": [
    {
     "name": "stdout",
     "output_type": "stream",
     "text": [
      "range(1970, 2023, 2)\n",
      "[1970, 1972, 1974, 1976, 1978, 1980, 1982, 1984, 1986, 1988, 1990, 1992, 1994, 1996, 1998, 2000, 2002, 2004, 2006, 2008, 2010, 2012, 2014, 2016, 2018, 2020, 2022] <class 'list'>\n"
     ]
    }
   ],
   "source": [
    "## We've held music festivals, every other year since 1970 until now - 2022. How would we list the years?yw\n",
    "years = range(1970, 2023, 2)\n",
    "print(years)\n",
    "\n",
    "#since range is lazy evaluated (los valores se generan en tiempo de iteracion), get values as a 'list'\n",
    "years = list(range(1970, 2023, 2))\n",
    "print(years, type(years))"
   ]
  },
  {
   "cell_type": "code",
   "execution_count": 3,
   "metadata": {},
   "outputs": [
    {
     "name": "stdout",
     "output_type": "stream",
     "text": [
      "random number 53\n",
      "random number 14\n",
      "random number 8\n",
      "random number 19\n",
      "random number 19\n"
     ]
    }
   ],
   "source": [
    "## A fortune-teller robot generate random lotto ticket suggestions for its customers. \n",
    "## How would you help the robot pick five random numbers between 1 and 53.\n",
    "import random\n",
    "\n",
    "for c in range(5):\n",
    "    value = random.randint(1, 53)\n",
    "    print('random number', value)"
   ]
  },
  {
   "cell_type": "code",
   "execution_count": 4,
   "metadata": {},
   "outputs": [
    {
     "name": "stdout",
     "output_type": "stream",
     "text": [
      "ticket [32, 15, 42, 49, 53]\n"
     ]
    }
   ],
   "source": [
    "#lotto ticket will be 'list' in my program\n",
    "import random\n",
    "\n",
    "ticket = []\n",
    "for c in range(5):\n",
    "    value = random.randint(1, 53)\n",
    "    ticket.append(value)\n",
    "\n",
    "print('ticket', ticket)"
   ]
  },
  {
   "cell_type": "code",
   "execution_count": 6,
   "metadata": {},
   "outputs": [
    {
     "name": "stdout",
     "output_type": "stream",
     "text": [
      "ticket [14, 37, 3, 19, 35]\n"
     ]
    }
   ],
   "source": [
    "#I want ticket to have unique numbers (values cannot be repeated)\n",
    "import random\n",
    "\n",
    "#DRY (don't repeat yourself)\n",
    "SUGGESTIONS_COUNT = 5\n",
    "\n",
    "ticket = []\n",
    "#for c in range(5)\n",
    "while len(ticket) < SUGGESTIONS_COUNT:\n",
    "    value = random.randint(1, 53)\n",
    "    if value not in ticket:\n",
    "        ticket.append(value)\n",
    "\n",
    "assert len(ticket) == SUGGESTIONS_COUNT, f\"expected len was {SUGGESTIONS_COUNT}\"\n",
    "print('ticket', ticket)"
   ]
  },
  {
   "cell_type": "code",
   "execution_count": 30,
   "metadata": {},
   "outputs": [
    {
     "name": "stdout",
     "output_type": "stream",
     "text": [
      "ticket {33, 38, 42, 43, 15, 49, 19, 23, 30} <class 'set'>\n"
     ]
    }
   ],
   "source": [
    "import random\n",
    "\n",
    "SUGGESTIONS_COUNT = 10\n",
    "\n",
    "ticket = []\n",
    "#for c in range(5)\n",
    "while len(ticket) < SUGGESTIONS_COUNT:\n",
    "    value = random.randint(1, 53)\n",
    "    ticket.append(value)\n",
    "\n",
    "#use 'set' dataype (set does not admit duplicate values)\n",
    "ticket = set(ticket)\n",
    "print('ticket', ticket, type(ticket))"
   ]
  },
  {
   "cell_type": "code",
   "execution_count": 7,
   "metadata": {},
   "outputs": [
    {
     "name": "stdout",
     "output_type": "stream",
     "text": [
      "item 1: 0.5\n",
      "item 2: 1.5\n",
      "item 3: 2.5\n"
     ]
    }
   ],
   "source": [
    "## Print this menu prices in the following format\n",
    "##  item 1: $0.50\n",
    "##  item 2: $1.50\n",
    "##  item 3: $2.50\n",
    "menu_prices  = {\n",
    "    'item 1': 0.50,\n",
    "    'item 2': 1.50,\n",
    "    'item 3': 2.50\n",
    "}\n",
    "\n",
    "for item in menu_prices:\n",
    "    print(f'{item}: {str(menu_prices[item])}')\n"
   ]
  },
  {
   "cell_type": "code",
   "execution_count": 10,
   "metadata": {},
   "outputs": [
    {
     "name": "stdout",
     "output_type": "stream",
     "text": [
      "item 1: $0.500\n",
      "item 2: $1.500\n",
      "item 3: $2.500\n"
     ]
    }
   ],
   "source": [
    "menu_prices  = {\n",
    "    'item 1': 0.50,\n",
    "    'item 2': 1.50,\n",
    "    'item 3': 2.50\n",
    "}\n",
    "\n",
    "for name, price in menu_prices.items():\n",
    "    print(name, ': $', format(price, '.3f'), sep='')"
   ]
  },
  {
   "cell_type": "code",
   "execution_count": 9,
   "metadata": {},
   "outputs": [
    {
     "name": "stdout",
     "output_type": "stream",
     "text": [
      "{1: 'Potatoes', 2: 'Tomatoes', 3: 'Carrots', 4: 'Onions', 5: 'Oranges', 6: 'Pears', 7: 'Apples', 8: 'Cucumbers', 9: 'Cantaloupes', 10: 'Watermelons'}\n",
      "{1: 'Potatoes', 2: 'Tomatoes', 3: 'Carrots', 4: 'Onions', 5: 'Oranges', 6: 'Pears', 7: 'Apples', 8: 'Cucumbers', 9: 'Cantaloupes', 10: 'Watermelons'}\n",
      "{1: 'Potatoes', 2: 'Tomatoes', 3: 'Carrots', 4: 'Onions', 5: 'Oranges', 6: 'Pears', 7: 'Apples', 8: 'Cucumbers', 9: 'Cantaloupes', 10: 'Watermelons'}\n",
      "{1: 'Potatoes', 2: 'Tomatoes', 3: 'Carrots', 4: 'Onions', 5: 'Oranges', 6: 'Pears', 7: 'Apples', 8: 'Cucumbers', 9: 'Cantaloupes', 10: 'Watermelons'}\n",
      "{1: 'Potatoes', 2: 'Tomatoes', 3: 'Carrots', 4: 'Onions', 5: 'Oranges', 6: 'Pears', 7: 'Apples', 8: 'Cucumbers', 9: 'Cantaloupes', 10: 'Watermelons'}\n",
      "{1: 'Potatoes', 2: 'Tomatoes', 3: 'Carrots', 4: 'Onions', 5: 'Oranges', 6: 'Pears', 7: 'Apples', 8: 'Cucumbers', 9: 'Cantaloupes', 10: 'Watermelons'}\n",
      "{1: 'Potatoes', 2: 'Tomatoes', 3: 'Carrots', 4: 'Onions', 5: 'Oranges', 6: 'Pears', 7: 'Apples', 8: 'Cucumbers', 9: 'Cantaloupes', 10: 'Watermelons'}\n",
      "{1: 'Potatoes', 2: 'Tomatoes', 3: 'Carrots', 4: 'Onions', 5: 'Oranges', 6: 'Pears', 7: 'Apples', 8: 'Cucumbers', 9: 'Cantaloupes', 10: 'Watermelons'}\n",
      "{1: 'Potatoes', 2: 'Tomatoes', 3: 'Carrots', 4: 'Onions', 5: 'Oranges', 6: 'Pears', 7: 'Apples', 8: 'Cucumbers', 9: 'Cantaloupes', 10: 'Watermelons'}\n"
     ]
    },
    {
     "ename": "ValueError",
     "evalue": "invalid literal for int() with base 10: 'Q'",
     "output_type": "error",
     "traceback": [
      "\u001b[1;31m---------------------------------------------------------------------------\u001b[0m",
      "\u001b[1;31mValueError\u001b[0m                                Traceback (most recent call last)",
      "Cell \u001b[1;32mIn [9], line 20\u001b[0m\n\u001b[0;32m     18\u001b[0m \u001b[38;5;28mprint\u001b[39m(menu)\n\u001b[0;32m     19\u001b[0m order \u001b[38;5;241m=\u001b[39m \u001b[38;5;28minput\u001b[39m(\u001b[38;5;124m'\u001b[39m\u001b[38;5;124mwhat would you like to order?\u001b[39m\u001b[38;5;124m'\u001b[39m)\n\u001b[1;32m---> 20\u001b[0m \u001b[38;5;28;01mif\u001b[39;00m \u001b[38;5;28;43mint\u001b[39;49m\u001b[43m(\u001b[49m\u001b[43morder\u001b[49m\u001b[43m)\u001b[49m \u001b[38;5;129;01min\u001b[39;00m menu:\n\u001b[0;32m     21\u001b[0m     orders\u001b[38;5;241m.\u001b[39mappend(menu\u001b[38;5;241m.\u001b[39mget(order))\n\u001b[0;32m     22\u001b[0m \u001b[38;5;28;01melse\u001b[39;00m:\n",
      "\u001b[1;31mValueError\u001b[0m: invalid literal for int() with base 10: 'Q'"
     ]
    }
   ],
   "source": [
    "## Create an console interface for ordering from a menu, \n",
    "## it will let customers order and add as many menu items as they want\n",
    "menu = {\n",
    "    1: 'Potatoes',\n",
    "    2: 'Tomatoes',\n",
    "    3: 'Carrots',\n",
    "    4: 'Onions',\n",
    "    5: 'Oranges',\n",
    "    6: 'Pears',\n",
    "    7: 'Apples',\n",
    "    8: 'Cucumbers',\n",
    "    9: 'Cantaloupes',\n",
    "    10: 'Watermelons'\n",
    "}\n",
    "orders = []\n",
    "order = ''\n",
    "while order != 'Q':\n",
    "    print(menu)\n",
    "    order = input('what would you like to order?')\n",
    "    if int(order) in menu:\n",
    "        orders.append(menu.get(order))\n",
    "    else:\n",
    "        print('Menu item does not exist')\n",
    "    \n",
    "# Add the user what they want to order as: what would you like to order? (Q to quit)\n",
    "# while the order is not equal for Q for quit, find the order and add it to the list if it exists\n",
    "# else let the customer know that the `Menu item does not exist`    \n",
    "# See if the customer wants to order anything else `Anything else? (Q to Quit)`"
   ]
  },
  {
   "cell_type": "code",
   "execution_count": 10,
   "metadata": {},
   "outputs": [
    {
     "name": "stdout",
     "output_type": "stream",
     "text": [
      "{1: 'Potatoes', 2: 'Tomatoes', 3: 'Carrots', 4: 'Onions', 5: 'Oranges', 6: 'Pears', 7: 'Apples', 8: 'Cucumbers', 9: 'Cantaloupes', 10: 'Watermelons'}\n",
      "We're all out of that!\n"
     ]
    }
   ],
   "source": [
    "## We have a problem, we run out of `Cheese sticks` in the menu, we'll need to let the customer know\n",
    "## if the order is `Cheese sticks` print `We're all out of that!` and skip the rest of the code\n",
    "menu = {\n",
    "    1: 'Potatoes',\n",
    "    2: 'Tomatoes',\n",
    "    3: 'Carrots',\n",
    "    4: 'Onions',\n",
    "    5: 'Oranges',\n",
    "    6: 'Pears',\n",
    "    7: 'Apples',\n",
    "    8: 'Cucumbers',\n",
    "    9: 'Cantaloupes',\n",
    "    10: 'Watermelons'\n",
    "}\n",
    "orders = []\n",
    "order = ''\n",
    "while order != 'Q':\n",
    "    print(menu)\n",
    "    order = input('what would you like to order?')\n",
    "    if(order == 'Cheese sticks'):\n",
    "        print(\"We're all out of that!\")\n",
    "        break\n",
    "    if int(order) in menu:\n",
    "        orders.append(menu.get(order))\n",
    "    else:\n",
    "        print('Menu item does not exist')"
   ]
  },
  {
   "cell_type": "code",
   "execution_count": null,
   "metadata": {},
   "outputs": [],
   "source": [
    "## We want to create a \"guess the number\" game for our fortune-teller robot. \n",
    "## If you guess the random number between 1 and 10, you win a crystal ball!\n",
    "\n",
    "# There is some code that's been written for us \n",
    "# -- getting the random number the user needs to guess, \n",
    "# asking the user to guess a number, and printing 'You win!' if they win. \n",
    "# We need to write the code to compare the users response to num.\n",
    "import random\n",
    "\n",
    "num = random.randint(1, 10)\n",
    "\n",
    "guess = int(input('Guess a number between 1 and 10'))\n",
    "# YOUR CODE HERE\n",
    "if num == guess:\n",
    "    print('You win!') \n",
    "else:\n",
    "    print('You lose, try again')\n"
   ]
  },
  {
   "cell_type": "code",
   "execution_count": 11,
   "metadata": {},
   "outputs": [
    {
     "name": "stdout",
     "output_type": "stream",
     "text": [
      "You lose, try again\n"
     ]
    }
   ],
   "source": [
    "## Now our fortune-teller robot has a guess the number game — if you guess the random number between 1 and 10, you win a crystal ball! \n",
    "## But the game lets the user guess 10 times, so they always win... #fail. \n",
    "## Let's fix the game so they can only guess three times.\n",
    "## After the while loop ends, check if guess is equal to num, then print 'You win!'. Otherwise, print 'You lose! The number was ' and also print num.\n",
    "import random\n",
    "random_nums = []\n",
    "choices = []\n",
    "winner = False\n",
    "for i in range(3):\n",
    "    random_nums.append(random.randint(1, 10))\n",
    "    choices.append((input('Guess a number between 1 and 10')))\n",
    "for num in choices:\n",
    "    if num in random_nums:\n",
    "        winner=true\n",
    "if winner == True:\n",
    "    print('You win!') \n",
    "else:\n",
    "    print('You lose, try again')\n"
   ]
  }
 ],
 "metadata": {
  "kernelspec": {
   "display_name": "Python 3.10.6 64-bit",
   "language": "python",
   "name": "python3"
  },
  "language_info": {
   "codemirror_mode": {
    "name": "ipython",
    "version": 3
   },
   "file_extension": ".py",
   "mimetype": "text/x-python",
   "name": "python",
   "nbconvert_exporter": "python",
   "pygments_lexer": "ipython3",
   "version": "3.10.6"
  },
  "orig_nbformat": 4,
  "vscode": {
   "interpreter": {
    "hash": "848d9b685f17e2371575775dca4840968d34f1f1c7c4a0e5d26c543701198dd7"
   }
  }
 },
 "nbformat": 4,
 "nbformat_minor": 2
}
