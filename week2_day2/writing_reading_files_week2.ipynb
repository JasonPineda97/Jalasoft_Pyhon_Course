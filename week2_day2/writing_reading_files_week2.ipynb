{
 "cells": [
  {
   "cell_type": "markdown",
   "metadata": {},
   "source": [
    "**Reading and Writing Files**"
   ]
  },
  {
   "cell_type": "markdown",
   "metadata": {},
   "source": [
    "**Problem:** We want to store data more permanently\n",
    "\n",
    "**Solution:**\n",
    "- Writing data to a file\n",
    "- Writing data to a database, reading data from a file"
   ]
  },
  {
   "cell_type": "markdown",
   "metadata": {},
   "source": [
    "**How to write to a file?**\n",
    "1. Open the file\n",
    "2. Write to the file"
   ]
  },
  {
   "cell_type": "code",
   "execution_count": 1,
   "metadata": {},
   "outputs": [],
   "source": [
    "sales_log = open('orders.txt', 'w')\n",
    "sales_log.write('line 1')\n",
    "sales_log.close()"
   ]
  },
  {
   "cell_type": "code",
   "execution_count": 3,
   "metadata": {},
   "outputs": [],
   "source": [
    "import random\n",
    "sales_log = open('orders.txt', 'w')\n",
    "\n",
    "numbers = random.sample(range(1, 1000), 100)\n",
    "\n",
    "sales_log.write(f\"{str(numbers)} \\n\")\n",
    "sales_log.close()"
   ]
  },
  {
   "cell_type": "code",
   "execution_count": 4,
   "metadata": {},
   "outputs": [
    {
     "name": "stdout",
     "output_type": "stream",
     "text": [
      "filename log 421848460.txt\n"
     ]
    }
   ],
   "source": [
    "import random\n",
    "\n",
    "sufix_tokens = [ str(number) for number in random.sample(range(1, 1000), 3)]\n",
    "\n",
    "filename = 'log ' + \"\".join(sufix_tokens) + '.txt'\n",
    "print('filename', filename)\n",
    "file = open('log123.txt', 'a')\n",
    "\n",
    "# asegurando que el flujo al archivo se cierra automáticamente\n",
    "\n",
    "with open(filename, 'a') as file:\n",
    "    ## TODO: do something with file\n",
    "\n",
    "    numbers = random.sample(range(1, 1000), 100)\n",
    "    file.write(f\"{str(numbers)}\\n\")"
   ]
  },
  {
   "cell_type": "code",
   "execution_count": 7,
   "metadata": {},
   "outputs": [
    {
     "name": "stdout",
     "output_type": "stream",
     "text": [
      "output already exists\n"
     ]
    }
   ],
   "source": [
    "# write a new file into folder \"output\" under working directory\n",
    "import random\n",
    "import os #manipula árbol de directorios\n",
    "\n",
    "from pathlib import Path\n",
    "\n",
    "FOLDER_NAME = 'output'\n",
    "sufix_tokens = [ str(number) for number in random.sample(range(1, 1000), 3)]\n",
    "filename = FOLDER_NAME + '/' + 'log_' + \"\".join(sufix_tokens) + '.txt'\n",
    "\n",
    "#Si el folder no existe este llamado va a fallar y producirá un crash de programa\n",
    "#Como dev debo encargarme de crear el folder programaticamente\n",
    "#Cómo??\n",
    "obj = Path(FOLDER_NAME)\n",
    "if not obj.exists():\n",
    "    os.mkdir(FOLDER_NAME)\n",
    "    print(f'{FOLDER_NAME} created')\n",
    "else:\n",
    "    print(f'{FOLDER_NAME} already exists')\n",
    "\n",
    "file = open(filename, 'a')\n",
    "\n"
   ]
  },
  {
   "cell_type": "markdown",
   "metadata": {},
   "source": [
    "**Writing data to a file**\n",
    "\n",
    "After we get a customer order, it would be great if we could record each sale to a sales.txt file\n",
    "- One single order comes in a dictionary of menu items and their price\n",
    "\n",
    "We are going to write each item and price on a separate line in a file and then the orders total"
   ]
  },
  {
   "cell_type": "code",
   "execution_count": 6,
   "metadata": {},
   "outputs": [],
   "source": [
    "def write_sales_log(order):\n",
    "    # open the file\n",
    "    sales_log = open('orders.txt', 'w')\n",
    "    # write each item to the file\n",
    "    total = 0\n",
    "    for item, price in order.items():\n",
    "        sales_log.write(f\"item: {item} price: {price}\")\n",
    "        total += price\n",
    "    # write the total to the file\n",
    "    sales_log.write(str(total))\n",
    "    # close the file\n",
    "    sales_log.close()\n",
    "    pass"
   ]
  },
  {
   "cell_type": "code",
   "execution_count": 7,
   "metadata": {},
   "outputs": [],
   "source": [
    "def main():\n",
    "    order =  {'order 1': 1.0, 'order 2': 2.5}\n",
    "    write_sales_log(order)\n",
    "\n",
    "main()\n",
    " "
   ]
  },
  {
   "cell_type": "code",
   "execution_count": 9,
   "metadata": {},
   "outputs": [],
   "source": [
    "# Now, we need to print the price as well\n",
    "def write_sales_log(order):\n",
    "    # open the file\n",
    "    sales_log = open('orders.txt', 'w')\n",
    "    # write each item along the price (float with 2 decimal places) to the file: `abdef ###.##`\n",
    "    total = 0\n",
    "    for item, price in order.items():\n",
    "        sales_log.write(f\"{item} {round(price, 2)} \\n\")\n",
    "        total += price\n",
    "    # write the item total to the file `total = ###.##`\n",
    "    sales_log.write(str(round(total, 2)))\n",
    "    # close the file\n",
    "    sales_log.close()\n",
    "    pass\n",
    "\n",
    "def main():\n",
    "    order =  {'order item 1': 1.0, 'order item 2': 2.5}\n",
    "    write_sales_log(order)\n",
    "    order =  {'order item 1': 6.0, 'order item 2': 21.5}\n",
    "\n",
    "main()"
   ]
  },
  {
   "cell_type": "code",
   "execution_count": null,
   "metadata": {},
   "outputs": [],
   "source": [
    "## We don't want to ovewrite our file data each time\n",
    "## append data  to the end of the file instead"
   ]
  },
  {
   "cell_type": "code",
   "execution_count": null,
   "metadata": {},
   "outputs": [],
   "source": [
    "## After `total` is written, Add a new line to separate the orders better"
   ]
  },
  {
   "cell_type": "markdown",
   "metadata": {},
   "source": [
    "**Writing the Circus Schedule**\n",
    "\n",
    "Whenever we update the schedule we'll write it to a file so that other programs, like the circus website, can use it. We want to take our performances dictionary and write each item into a schedule.txt file so the file looks like this:\n",
    "\n",
    "    Ventriloquism - 9:00am\n",
    "\n",
    "    Snake Charmer - 12:00pm\n",
    "\n",
    "    Amazing Acrobatics - 2:00pm\n",
    "\n",
    "    Enchanted Elephants - 5:00pm"
   ]
  },
  {
   "cell_type": "code",
   "execution_count": 10,
   "metadata": {},
   "outputs": [],
   "source": [
    "schedules = {\n",
    "    'a': '9:00am',\n",
    "    'b': '9:00am',\n",
    "    'c': '9:00am'\n",
    "}\n",
    "\n",
    "## First, we'll need to open our file using the open() function with the file name schedule.txt and w for write. \n",
    "# We'll also want to assign the file to a variable called schedule_file.\n",
    "with open('schedule.txt', 'w') as schedule_file:\n",
    "    #TODO \n",
    "    for schedule in schedules.items():\n",
    "        key, value = schedule\n",
    "        line = f\"{key} - {value}\\n\"\n",
    "        schedule_file.write(line)\n",
    "\n",
    "## Next, we need to write each item from the dictionary to the file. To do that, we'll create a for loop that loops over the dictionary's items(). \n",
    "# We'll name the for loop variables key and val.\n",
    "\n",
    "## Inside our for loop we'll write to schedule_file using the .write() function. Then inside of that function we'll concatenate the key, then ' - ', and finally val to match our menu format. \n",
    "# Don't forget to add a newline ' ' at the end of each line.\n",
    "\n",
    "## Now that we're done writing our performance schedule to schedule_file, we need to close it with .close()."
   ]
  },
  {
   "cell_type": "markdown",
   "metadata": {},
   "source": [
    "**Reading data from a file**\n",
    "\n",
    "**Problem:**\n",
    "- Everyday a boss sends a file of dollar menu items.\n",
    "- We want to read this file into a list so our program can use it\n",
    "\n",
    "**Solution:**\n",
    "- Open the file \n",
    "- Read from the file\n",
    "- Close the file"
   ]
  },
  {
   "cell_type": "code",
   "execution_count": 12,
   "metadata": {},
   "outputs": [
    {
     "ename": "FileNotFoundError",
     "evalue": "[Errno 2] No such file or directory: 'dollar_menu.txt'",
     "output_type": "error",
     "traceback": [
      "\u001b[1;31m---------------------------------------------------------------------------\u001b[0m",
      "\u001b[1;31mFileNotFoundError\u001b[0m                         Traceback (most recent call last)",
      "Cell \u001b[1;32mIn [12], line 2\u001b[0m\n\u001b[0;32m      1\u001b[0m \u001b[38;5;66;03m## Reading the entire file content at once\u001b[39;00m\n\u001b[1;32m----> 2\u001b[0m dollar_spam \u001b[38;5;241m=\u001b[39m \u001b[38;5;28;43mopen\u001b[39;49m\u001b[43m(\u001b[49m\u001b[38;5;124;43m'\u001b[39;49m\u001b[38;5;124;43mdollar_menu.txt\u001b[39;49m\u001b[38;5;124;43m'\u001b[39;49m\u001b[43m,\u001b[49m\u001b[43m \u001b[49m\u001b[38;5;124;43m'\u001b[39;49m\u001b[38;5;124;43mr\u001b[39;49m\u001b[38;5;124;43m'\u001b[39;49m\u001b[43m)\u001b[49m\n\u001b[0;32m      3\u001b[0m \u001b[38;5;28mprint\u001b[39m(dollar_spam\u001b[38;5;241m.\u001b[39mread())\n\u001b[0;32m      4\u001b[0m dollar_spam\u001b[38;5;241m.\u001b[39mclose()\n",
      "\u001b[1;31mFileNotFoundError\u001b[0m: [Errno 2] No such file or directory: 'dollar_menu.txt'"
     ]
    }
   ],
   "source": [
    "## Reading the entire file content at once\n",
    "dollar_spam = open('dollar_menu.txt', 'r')\n",
    "print(dollar_spam.read())\n",
    "dollar_spam.close()"
   ]
  },
  {
   "cell_type": "code",
   "execution_count": 11,
   "metadata": {},
   "outputs": [
    {
     "ename": "FileNotFoundError",
     "evalue": "[Errno 2] No such file or directory: 'dollar_menu.txt'",
     "output_type": "error",
     "traceback": [
      "\u001b[1;31m---------------------------------------------------------------------------\u001b[0m",
      "\u001b[1;31mFileNotFoundError\u001b[0m                         Traceback (most recent call last)",
      "Cell \u001b[1;32mIn [11], line 11\u001b[0m\n\u001b[0;32m      8\u001b[0m \u001b[38;5;28;01mdef\u001b[39;00m \u001b[38;5;21mmain\u001b[39m():\n\u001b[0;32m      9\u001b[0m     read_dollar_menu()\n\u001b[1;32m---> 11\u001b[0m \u001b[43mmain\u001b[49m\u001b[43m(\u001b[49m\u001b[43m)\u001b[49m\n",
      "Cell \u001b[1;32mIn [11], line 9\u001b[0m, in \u001b[0;36mmain\u001b[1;34m()\u001b[0m\n\u001b[0;32m      8\u001b[0m \u001b[38;5;28;01mdef\u001b[39;00m \u001b[38;5;21mmain\u001b[39m():\n\u001b[1;32m----> 9\u001b[0m     \u001b[43mread_dollar_menu\u001b[49m\u001b[43m(\u001b[49m\u001b[43m)\u001b[49m\n",
      "Cell \u001b[1;32mIn [11], line 3\u001b[0m, in \u001b[0;36mread_dollar_menu\u001b[1;34m()\u001b[0m\n\u001b[0;32m      2\u001b[0m \u001b[38;5;28;01mdef\u001b[39;00m \u001b[38;5;21mread_dollar_menu\u001b[39m():\n\u001b[1;32m----> 3\u001b[0m     dollar_spam \u001b[38;5;241m=\u001b[39m \u001b[38;5;28;43mopen\u001b[39;49m\u001b[43m(\u001b[49m\u001b[38;5;124;43m'\u001b[39;49m\u001b[38;5;124;43mdollar_menu.txt\u001b[39;49m\u001b[38;5;124;43m'\u001b[39;49m\u001b[43m,\u001b[49m\u001b[43m \u001b[49m\u001b[38;5;124;43m'\u001b[39;49m\u001b[38;5;124;43mr\u001b[39;49m\u001b[38;5;124;43m'\u001b[39;49m\u001b[43m)\u001b[49m\n\u001b[0;32m      4\u001b[0m     \u001b[38;5;28mprint\u001b[39m(\u001b[38;5;124m'\u001b[39m\u001b[38;5;124m1st line:\u001b[39m\u001b[38;5;124m'\u001b[39m, dollar_spam\u001b[38;5;241m.\u001b[39mreadline())\n\u001b[0;32m      5\u001b[0m     \u001b[38;5;28mprint\u001b[39m(\u001b[38;5;124m'\u001b[39m\u001b[38;5;124m2nd line:\u001b[39m\u001b[38;5;124m'\u001b[39m, dollar_spam\u001b[38;5;241m.\u001b[39mreadline())\n",
      "\u001b[1;31mFileNotFoundError\u001b[0m: [Errno 2] No such file or directory: 'dollar_menu.txt'"
     ]
    }
   ],
   "source": [
    "## Reading an individual line from a file\n",
    "def read_dollar_menu():\n",
    "    dollar_spam = open('dollar_menu.txt', 'r')\n",
    "    print('1st line:', dollar_spam.readline())\n",
    "    print('2nd line:', dollar_spam.readline())\n",
    "    dollar_spam.close()\n",
    "\n",
    "def main():\n",
    "    read_dollar_menu()\n",
    "\n",
    "main()"
   ]
  },
  {
   "cell_type": "code",
   "execution_count": 13,
   "metadata": {},
   "outputs": [
    {
     "ename": "UnboundLocalError",
     "evalue": "local variable 'file_name' referenced before assignment",
     "output_type": "error",
     "traceback": [
      "\u001b[1;31m---------------------------------------------------------------------------\u001b[0m",
      "\u001b[1;31mUnboundLocalError\u001b[0m                         Traceback (most recent call last)",
      "Cell \u001b[1;32mIn [13], line 19\u001b[0m\n\u001b[0;32m     16\u001b[0m     \u001b[38;5;28;01mfor\u001b[39;00m line \u001b[38;5;129;01min\u001b[39;00m content:\n\u001b[0;32m     17\u001b[0m         \u001b[38;5;28mprint\u001b[39m(\u001b[38;5;28mtype\u001b[39m(line), line)\n\u001b[1;32m---> 19\u001b[0m \u001b[43mmain\u001b[49m\u001b[43m(\u001b[49m\u001b[43m)\u001b[49m\n",
      "Cell \u001b[1;32mIn [13], line 14\u001b[0m, in \u001b[0;36mmain\u001b[1;34m()\u001b[0m\n\u001b[0;32m     12\u001b[0m \u001b[38;5;28;01mdef\u001b[39;00m \u001b[38;5;21mmain\u001b[39m():\n\u001b[0;32m     13\u001b[0m     file_name : \u001b[38;5;124m\"\u001b[39m\u001b[38;5;124morders.txt\u001b[39m\u001b[38;5;124m\"\u001b[39m\n\u001b[1;32m---> 14\u001b[0m     content \u001b[38;5;241m=\u001b[39m read_dollar_menu(\u001b[43mfile_name\u001b[49m)\n\u001b[0;32m     15\u001b[0m     \u001b[38;5;66;03m# print(content)\u001b[39;00m\n\u001b[0;32m     16\u001b[0m     \u001b[38;5;28;01mfor\u001b[39;00m line \u001b[38;5;129;01min\u001b[39;00m content:\n",
      "\u001b[1;31mUnboundLocalError\u001b[0m: local variable 'file_name' referenced before assignment"
     ]
    }
   ],
   "source": [
    "## Reading ALL the lines in a loop into a list\n",
    "def read_dollar_menu(file_name):\n",
    "    # open the file\n",
    "    # loop to get each line and append each line into a list\n",
    "    # print the list\n",
    "    # close the file\n",
    "    content = []\n",
    "    with open(file_name, \"r\") as file:\n",
    "        txt = file.read()\n",
    "        content = txt.readlines() # read all lines and assing result to list\n",
    "    return content\n",
    "\n",
    "def main():\n",
    "    file_name : \"orders.txt\"\n",
    "    content = read_dollar_menu(file_name)\n",
    "    # print(content)\n",
    "    for line in content:\n",
    "        print(type(line), line)\n",
    "\n",
    "main()"
   ]
  },
  {
   "cell_type": "code",
   "execution_count": null,
   "metadata": {},
   "outputs": [],
   "source": [
    "## Strip newline caracters from each menu line"
   ]
  },
  {
   "cell_type": "markdown",
   "metadata": {},
   "source": [
    "**Reading schedule.txt**\n",
    "\n",
    "We'll also need to be able to read our schedule file back into a dictionary. \n",
    "\n",
    "Right now our schedule.txt file looks like this:\n",
    "\n",
    "    Ventriloquism - 9:00am\n",
    "\n",
    "    Snake Charmer - 12:00pm\n",
    "\n",
    "    Amazing Acrobatics - 2:00pm\n",
    "\n",
    "    Enchanted Elephants - 5:00pm\n",
    "\n",
    "After we open the file, we'll want to read each line from the file in a for loop.\n",
    "\n",
    "Let's use the variable name line in our for loop.\n",
    "\n",
    "Then, inside of that for loop, print out the contents of the line variable.\n",
    "\n",
    "Finally, before we forget, let's close our file outside of the for loop."
   ]
  },
  {
   "cell_type": "code",
   "execution_count": 16,
   "metadata": {},
   "outputs": [
    {
     "name": "stdout",
     "output_type": "stream",
     "text": [
      "a - 9:00am\n",
      "\n",
      "b - 9:00am\n",
      "\n",
      "c - 9:00am\n",
      "\n"
     ]
    }
   ],
   "source": [
    "## Reading schedule.txt\n",
    "def read_schedule():\n",
    "    content = []\n",
    "    with open(\"schedule.txt\", \"r\") as file:\n",
    "        content = file.readlines() # read all lines and assing result to list\n",
    "    return content\n",
    "\n",
    "def main():\n",
    "    file_name : \"schedule.txt\"\n",
    "    content = read_schedule()\n",
    "    # print(content)\n",
    "    for line in content:\n",
    "        print(line)\n",
    "\n",
    "main()"
   ]
  },
  {
   "cell_type": "code",
   "execution_count": 17,
   "metadata": {},
   "outputs": [
    {
     "name": "stdout",
     "output_type": "stream",
     "text": [
      "a \n",
      " 9:00am\n",
      "\n",
      "b \n",
      " 9:00am\n",
      "\n",
      "c \n",
      " 9:00am\n",
      "\n"
     ]
    }
   ],
   "source": [
    "## Assign the show name and time directly to a key-value pair labeled (show, time). \n",
    "## Set (show, time) equal to the output of the line.split() function, and pass in ' - ' as a parameter to the split() function.\n",
    "## Print show and time instead of just line.\n",
    "def read_schedule():\n",
    "    content = []\n",
    "    with open(\"schedule.txt\", \"r\") as file:\n",
    "        content = file.readlines()\n",
    "    return content\n",
    "\n",
    "def main():\n",
    "    file_name : \"schedule.txt\"\n",
    "    content = read_schedule()\n",
    "    for line in content:\n",
    "        x = line.split(\"-\")\n",
    "        for item in x:\n",
    "            print(item)\n",
    "\n",
    "main()\n"
   ]
  },
  {
   "cell_type": "code",
   "execution_count": 24,
   "metadata": {},
   "outputs": [
    {
     "name": "stdout",
     "output_type": "stream",
     "text": [
      "{'a ': ' 9:00am', 'b ': ' 9:00am', 'c ': ' 9:00am'}\n"
     ]
    }
   ],
   "source": [
    "## Save the show and time in a performances dictionary, use the key show and the value time.\n",
    "## Print it to see if it looks right\n",
    "## Get rid of newline characters\n",
    "shows = {}\n",
    "\n",
    "def read_schedule():\n",
    "    content = []\n",
    "    with open(\"schedule.txt\", \"r\") as file:\n",
    "        content = file.readlines()\n",
    "    return content\n",
    "\n",
    "def main():\n",
    "    file_name : \"schedule.txt\"\n",
    "    content = read_schedule()\n",
    "    for line in content:\n",
    "        x = line.split(\"-\")\n",
    "        shows[x[0]] = x[1].rstrip('\\n')\n",
    "    \n",
    "    print(shows)\n",
    "\n",
    "main()"
   ]
  },
  {
   "cell_type": "markdown",
   "metadata": {},
   "source": [
    "**Exceptions**\n",
    "\n",
    "If we try to read a file that does not exist we get a **FileNotFoundError** and this error will cause our program to crash\n",
    "\n",
    "It would be great if we could recover from this type of error and continue with our program\n",
    "\n",
    "**Try except** allows us to do just that"
   ]
  },
  {
   "cell_type": "code",
   "execution_count": null,
   "metadata": {},
   "outputs": [],
   "source": [
    "## Anything we put in the Try block catch errors so we can avoid a program crash\n",
    "## Opening a file is potencially error prone code\n",
    "\n",
    "try: # try this\n",
    "    file = open('sales.txt', 'r')\n",
    "    print(file.read())\n",
    "except: # if you get an error\n",
    "    print('File does not exit') # print the error message \n",
    "# then continue with the program as usual\n",
    "print('*')"
   ]
  },
  {
   "cell_type": "markdown",
   "metadata": {},
   "source": [
    "**Types of Exceptions**\n",
    "\n",
    "Python has 60 and plus types of exceptions, like:\n",
    "- FileNotFoundError\n",
    "- IndexError\n",
    "- KeyError\n",
    "- NameError\n",
    "- ValueError\n",
    "\n",
    "You can find all of the types of Python 3 exception at http://go.codeschool.com/python-exceptions"
   ]
  },
  {
   "cell_type": "code",
   "execution_count": 1,
   "metadata": {},
   "outputs": [
    {
     "name": "stdout",
     "output_type": "stream",
     "text": [
      "price =  15000.0 <class 'float'>\n",
      "next line\n"
     ]
    }
   ],
   "source": [
    "## A ValueError can occur when you try to convert a string to number\n",
    "## and the string actually contain a word instead of a number \n",
    "\n",
    "price = input('Enter the price: ')\n",
    "try:\n",
    "    price = float(price)\n",
    "    print('price = ', price, type(price))\n",
    "except Exception as exception:\n",
    "    print('Not a number:', exception, type(exception))\n",
    "\n",
    "print('next line')"
   ]
  },
  {
   "cell_type": "code",
   "execution_count": null,
   "metadata": {},
   "outputs": [],
   "source": [
    "## Capture the exception's error message"
   ]
  },
  {
   "cell_type": "markdown",
   "metadata": {},
   "source": [
    "**Try, Except, Succeed**\n",
    "\n",
    "If for some reason we try to read our schedule.txt file and it doesn't exist, our program will crash. \n",
    "\n",
    "Let's fix this by adding exception handling to our schedule reader program."
   ]
  },
  {
   "cell_type": "code",
   "execution_count": null,
   "metadata": {},
   "outputs": [],
   "source": [
    "## First, let's wrap the line of code that opens our file inside a try block.\n",
    "## Then, after the try block we need an except block, or our program won't run. \n",
    "## Inside our except block let's print File doesn't exist.\n",
    "## In the except: line, let's also check for a specific FileNotFoundError and save it into a variable called err.\n",
    "## Finally, let's just print err instead of File doesn't exist.\n",
    "\n",
    "performances = {}\n",
    "\n",
    "schedule_file = open('schedule.txt', 'r')\n",
    "\n",
    "for line in schedule_file:\n",
    "    (show, time) = line.split(' - ')\n",
    "    performances[show] = time\n",
    "\n",
    "schedule_file.close()\n",
    "print(performances)"
   ]
  }
 ],
 "metadata": {
  "kernelspec": {
   "display_name": "Python 3.10.6 64-bit",
   "language": "python",
   "name": "python3"
  },
  "language_info": {
   "codemirror_mode": {
    "name": "ipython",
    "version": 3
   },
   "file_extension": ".py",
   "mimetype": "text/x-python",
   "name": "python",
   "nbconvert_exporter": "python",
   "pygments_lexer": "ipython3",
   "version": "3.10.6"
  },
  "orig_nbformat": 4,
  "vscode": {
   "interpreter": {
    "hash": "848d9b685f17e2371575775dca4840968d34f1f1c7c4a0e5d26c543701198dd7"
   }
  }
 },
 "nbformat": 4,
 "nbformat_minor": 2
}
